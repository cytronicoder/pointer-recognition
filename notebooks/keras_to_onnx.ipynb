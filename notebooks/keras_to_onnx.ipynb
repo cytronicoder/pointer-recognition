{
  "cells": [
    {
      "cell_type": "code",
      "execution_count": null,
      "metadata": {
        "colab": {
          "base_uri": "https://localhost:8080/"
        },
        "id": "-zMD3QYesXey",
        "outputId": "28b76e39-3f4e-41f3-d747-7624d51725fa"
      },
      "outputs": [],
      "source": [
        "%pip install onnx tf2onnx onnx2pytorch"
      ]
    },
    {
      "cell_type": "code",
      "execution_count": null,
      "metadata": {
        "id": "zke7prLmsGgb"
      },
      "outputs": [],
      "source": [
        "import tensorflow as tf, torch, onnx, tf2onnx\n",
        "from onnx2pytorch import ConvertModel"
      ]
    },
    {
      "cell_type": "code",
      "execution_count": null,
      "metadata": {
        "colab": {
          "base_uri": "https://localhost:8080/"
        },
        "id": "OgXY2rYdsKXg",
        "outputId": "863ba24d-9c2f-4e78-f3cf-a2e88152aa06"
      },
      "outputs": [],
      "source": [
        "dir = './models/'\n",
        "\n",
        "# Convert Keras model to ONNX format\n",
        "keras_model = tf.keras.models.load_model(dir + \"keras_model.h5\")\n",
        "print(\"Loaded \" + dir + \"keras_model.h5\")\n",
        "\n",
        "input_signature = [tf.TensorSpec(list(keras_model.input_shape), tf.float32, name='image_inputs')]\n",
        "onnx_model, _ = tf2onnx.convert.from_keras(keras_model, input_signature, opset=13)\n",
        "onnx.save(onnx_model, dir + \"onnx_model.onnx\")\n",
        "\n",
        "print(\"ONNX model saved to \" + dir + \"onnx_model.onnx\")"
      ]
    },
    {
      "cell_type": "code",
      "execution_count": null,
      "metadata": {
        "colab": {
          "base_uri": "https://localhost:8080/"
        },
        "id": "L4rooOsesMN8",
        "outputId": "c613c92b-cac6-4a6b-b861-89d7274fd801"
      },
      "outputs": [],
      "source": [
        "# Convert ONNX model to PyTorch model\n",
        "pytorch_model = ConvertModel(onnx_model)\n",
        "torch.save(pytorch_model, dir + \"pytorch_model.pt\")\n",
        "print(\"PyTorch model saved to \" + dir + \"pytorch_model.pt\")"
      ]
    },
    {
      "cell_type": "code",
      "execution_count": null,
      "metadata": {
        "colab": {
          "base_uri": "https://localhost:8080/"
        },
        "id": "L5OhMhkcsNUx",
        "outputId": "a9220017-f8a8-4060-ab83-037b79beb2b4"
      },
      "outputs": [],
      "source": [
        "# Converting back to ONNX model\n",
        "device = torch.device('cuda:0' if torch.cuda.is_available() else 'cpu')\n",
        "print('Running on device: ' + str(device))\n",
        "\n",
        "pytorch_model.to(device)\n",
        "pytorch_model.eval()\n",
        "\n",
        "print(pytorch_model)"
      ]
    }
  ],
  "metadata": {
    "colab": {
      "collapsed_sections": [],
      "name": "Untitled0.ipynb",
      "provenance": []
    },
    "kernelspec": {
      "display_name": "Python 3",
      "name": "python3"
    },
    "language_info": {
      "name": "python"
    }
  },
  "nbformat": 4,
  "nbformat_minor": 0
}
